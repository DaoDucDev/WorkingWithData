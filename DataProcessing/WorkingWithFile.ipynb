{
 "cells": [
  {
   "cell_type": "code",
   "execution_count": 9,
   "metadata": {},
   "outputs": [
    {
     "data": {
      "application/vnd.jupyter.widget-view+json": {
       "model_id": "dc5ce61f6cc64bbc90ddc44edbccfd08",
       "version_major": 2,
       "version_minor": 0
      },
      "text/plain": [
       "HBox(children=(FileUpload(value=(), description='Upload'), Dropdown(description='Select Sheet', options=(), va…"
      ]
     },
     "metadata": {},
     "output_type": "display_data"
    },
    {
     "data": {
      "application/vnd.jupyter.widget-view+json": {
       "model_id": "6e62a0e5c987429a97bf5d86d3e95fde",
       "version_major": 2,
       "version_minor": 0
      },
      "text/plain": [
       "Output()"
      ]
     },
     "metadata": {},
     "output_type": "display_data"
    }
   ],
   "source": [
    "import ipywidgets as widgets\n",
    "import pandas as pd\n",
    "from IPython.display import display\n",
    "import io\n",
    "\n",
    "file_upload = widgets.FileUpload()\n",
    "\n",
    "output = widgets.Output()\n",
    "textInput = widgets.Text()\n",
    "\n",
    "def on_upload_change(change):\n",
    "    # We need output Widget to get display() results in the code, else nothing will appear. In modern ipywidgets and Jupyter you have to be explicit in how you connect up the output being generated \n",
    "    # to the output area of the cell'.\n",
    "    with output:\n",
    "        output.clear_output()\n",
    "        global file_contents      # We had to make it a global variable, as we need it to create 'df' in 'read_excel_sheet()'.\n",
    "        file_contents = change.new[0].content\n",
    "        #df = pd.read_excel(io.BytesIO(change.new[0].content),sheet_name=sheet_dropdown.value,dtype=str)\n",
    "        #display(change)\n",
    "\n",
    "# Function to read Excel sheet and create a DataFrame\n",
    "def read_excel_sheet(file_content, sheet_name):\n",
    "     df = pd.read_excel(io.BytesIO(file_content), sheet_name=sheet_name)\n",
    "     return df\n",
    "\n",
    "# Create Dropdown widget for sheet selection\n",
    "sheet_dropdown = widgets.Dropdown(options=[], description='Select Sheet')\n",
    "\n",
    "# Function to update dropdown options when file is uploaded\n",
    "def update_sheet_dropdown(change):\n",
    "    excel_file = pd.ExcelFile(io.BytesIO(change.new[0].content))\n",
    "    sheet_dropdown.options = excel_file.sheet_names\n",
    "    sheet_dropdown.value = None # This needs to be done else the next time we choose a file, \n",
    "                                # you won't get an empty dropdown and a sheet would be selected\n",
    "                                # by default, which is problematic because we can only create \n",
    "                                # a 'df' once an event for choosing a sheet is triggered.\n",
    "\n",
    "# Function to handle sheet selection and DataFrame creation\n",
    "def handle_sheet_selection(change):\n",
    "    with output:\n",
    "        #output.clear_output()\n",
    "        #display(change)\n",
    "        #display(change.new)\n",
    "        sheet_name = change.new\n",
    "        dataframe = read_excel_sheet(file_contents, sheet_name)\n",
    "        dataframe[\"Order Amount\"] = dataframe[\"Order Amount\"].apply(lambda x: x.replace('VND', '')).apply(lambda x: x.replace('.', ''))\n",
    "\n",
    "        productNameToFilter = \"BỘT TRONG VEO\"\n",
    "        createDateToFilter = \"31/08/2024\"\n",
    "        fileName = \"{}_{}.xlsx\".format(productNameToFilter.replace(\" \", \"\"), createDateToFilter.replace(\"/\", \"\"))\n",
    "\n",
    "        checkContainProductName = dataframe[\"Product Name\"].str.contains(productNameToFilter)\n",
    "        checkContainCreatedDate = dataframe[\"Created Time\"].str.contains(createDateToFilter)\n",
    "\n",
    "        df_demo = dataframe.loc[checkContainProductName & checkContainCreatedDate]\n",
    "        df_demo['Order Amount'] = pd.to_numeric(df_demo['Order Amount'])\n",
    "        totalAmount = df_demo['Order Amount'].sum()\n",
    "        display(totalAmount)\n",
    "        df_demo.to_excel(fileName)\n",
    "        # display(df_demo)\n",
    "\n",
    "file_upload.observe(update_sheet_dropdown, names='value')\n",
    "sheet_dropdown.observe(handle_sheet_selection, names='value')\n",
    "file_upload.observe(on_upload_change, names='value')\n",
    "\n",
    "boxes = widgets.HBox([file_upload,sheet_dropdown])\n",
    "display(boxes)\n",
    "\n",
    "display(output)\n"
   ]
  }
 ],
 "metadata": {
  "kernelspec": {
   "display_name": "base",
   "language": "python",
   "name": "python3"
  },
  "language_info": {
   "codemirror_mode": {
    "name": "ipython",
    "version": 3
   },
   "file_extension": ".py",
   "mimetype": "text/x-python",
   "name": "python",
   "nbconvert_exporter": "python",
   "pygments_lexer": "ipython3",
   "version": "3.12.3"
  }
 },
 "nbformat": 4,
 "nbformat_minor": 2
}
