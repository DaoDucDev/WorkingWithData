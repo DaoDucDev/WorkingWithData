{
 "cells": [
  {
   "cell_type": "code",
   "execution_count": 31,
   "metadata": {},
   "outputs": [
    {
     "data": {
      "application/vnd.jupyter.widget-view+json": {
       "model_id": "ae31bd20e5ee460d9c69c4ff54a7a835",
       "version_major": 2,
       "version_minor": 0
      },
      "text/plain": [
       "HBox(children=(FileUpload(value=(), description='Upload'), Dropdown(description='Select Sheet', options=(), va…"
      ]
     },
     "metadata": {},
     "output_type": "display_data"
    },
    {
     "data": {
      "application/vnd.jupyter.widget-view+json": {
       "model_id": "e8164ac95edf437f9e5304b7422026be",
       "version_major": 2,
       "version_minor": 0
      },
      "text/plain": [
       "Output()"
      ]
     },
     "metadata": {},
     "output_type": "display_data"
    }
   ],
   "source": [
    "import ipywidgets as widgets\n",
    "import pandas as pd\n",
    "from IPython.display import display\n",
    "import io\n",
    "\n",
    "file_upload = widgets.FileUpload()\n",
    "\n",
    "output = widgets.Output()\n",
    "\n",
    "def on_upload_change(change):\n",
    "    # We need output Widget to get display() results in the code, else nothing will appear. In modern ipywidgets and Jupyter you have to be explicit in how you connect up the output being generated \n",
    "    # to the output area of the cell'.\n",
    "    with output:\n",
    "        output.clear_output()\n",
    "        global file_contents      # We had to make it a global variable, as we need it to create 'df' in 'read_excel_sheet()'.\n",
    "        file_contents = change.new[0].content\n",
    "        #df = pd.read_excel(io.BytesIO(change.new[0].content),sheet_name=sheet_dropdown.value,dtype=str)\n",
    "        #display(change)\n",
    "\n",
    "# Function to read Excel sheet and create a DataFrame\n",
    "def read_excel_sheet(file_content, sheet_name):\n",
    "     df = pd.read_excel(io.BytesIO(file_content), sheet_name=sheet_name)\n",
    "     return df\n",
    "\n",
    "# Create Dropdown widget for sheet selection\n",
    "sheet_dropdown = widgets.Dropdown(options=[], description='Select Sheet')\n",
    "\n",
    "# Function to update dropdown options when file is uploaded\n",
    "def update_sheet_dropdown(change):\n",
    "    excel_file = pd.ExcelFile(io.BytesIO(change.new[0].content))\n",
    "    sheet_dropdown.options = excel_file.sheet_names\n",
    "    sheet_dropdown.value = None # This needs to be done else the next time we choose a file, \n",
    "                                # you won't get an empty dropdown and a sheet would be selected\n",
    "                                # by default, which is problematic because we can only create \n",
    "                                # a 'df' once an event for choosing a sheet is triggered.\n",
    "\n",
    "# Function to handle sheet selection and DataFrame creation\n",
    "def handle_sheet_selection(change):\n",
    "    with output:\n",
    "        #output.clear_output()\n",
    "        #display(change)\n",
    "        #display(change.new)\n",
    "        sheet_name = change.new\n",
    "        df = read_excel_sheet(file_contents, sheet_name)\n",
    "        display(df)\n",
    "\n",
    "file_upload.observe(update_sheet_dropdown, names='value')\n",
    "sheet_dropdown.observe(handle_sheet_selection, names='value')\n",
    "file_upload.observe(on_upload_change, names='value')\n",
    "\n",
    "boxes = widgets.HBox([file_upload,sheet_dropdown])\n",
    "display(boxes)\n",
    "\n",
    "display(output)\n"
   ]
  }
 ],
 "metadata": {
  "kernelspec": {
   "display_name": "base",
   "language": "python",
   "name": "python3"
  },
  "language_info": {
   "codemirror_mode": {
    "name": "ipython",
    "version": 3
   },
   "file_extension": ".py",
   "mimetype": "text/x-python",
   "name": "python",
   "nbconvert_exporter": "python",
   "pygments_lexer": "ipython3",
   "version": "3.12.3"
  }
 },
 "nbformat": 4,
 "nbformat_minor": 2
}
