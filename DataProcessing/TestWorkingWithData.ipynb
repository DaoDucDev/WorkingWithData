{
 "cells": [
  {
   "cell_type": "code",
   "execution_count": 16,
   "metadata": {},
   "outputs": [
    {
     "name": "stdout",
     "output_type": "stream",
     "text": [
      "BỘTTRONGVEO_31082024.xlsx\n"
     ]
    },
    {
     "name": "stderr",
     "output_type": "stream",
     "text": [
      "C:\\Users\\nasa1\\AppData\\Local\\Temp\\ipykernel_20584\\4279045063.py:13: SettingWithCopyWarning: \n",
      "A value is trying to be set on a copy of a slice from a DataFrame.\n",
      "Try using .loc[row_indexer,col_indexer] = value instead\n",
      "\n",
      "See the caveats in the documentation: https://pandas.pydata.org/pandas-docs/stable/user_guide/indexing.html#returning-a-view-versus-a-copy\n",
      "  df_demo['Order Amount'] = pd.to_numeric(df_demo['Order Amount'])\n"
     ]
    }
   ],
   "source": [
    "import pandas as pd\n",
    "import os\n",
    "\n",
    "folderPath = \"C:\\\\Users\\\\nasa1\\\\Documents\\\\MyProject\\\\WorkingWithData\\\\DataProcessing\\\\RawData\"\n",
    "fileName = \"\\\\Tiktok.xlsx\"\n",
    "dataframe = pd.read_excel(folderPath + fileName)\n",
    "dataframe[\"Order Amount\"] = dataframe[\"Order Amount\"].apply(lambda x: x.replace('VND', '')).apply(lambda x: x.replace('.', ''))\n",
    "\n",
    "productNameToFilter = \"BỘT TRONG VEO\"\n",
    "createDateToFilter = \"31/08/2024\"\n",
    "fileName = \"{}_{}.xlsx\".format(productNameToFilter.replace(\" \", \"\"), createDateToFilter.replace(\"/\", \"\"))\n",
    "df_demo = dataframe.loc[dataframe[\"Product Name\"].str.contains(productNameToFilter) & dataframe[\"Created Time\"].str.contains(createDateToFilter)]\n",
    "df_demo['Order Amount'] = pd.to_numeric(df_demo['Order Amount'])\n",
    "\n",
    "print(fileName)\n",
    "# print(df_demo)\n",
    "df_demo.to_excel(fileName)\n"
   ]
  }
 ],
 "metadata": {
  "kernelspec": {
   "display_name": "base",
   "language": "python",
   "name": "python3"
  },
  "language_info": {
   "codemirror_mode": {
    "name": "ipython",
    "version": 3
   },
   "file_extension": ".py",
   "mimetype": "text/x-python",
   "name": "python",
   "nbconvert_exporter": "python",
   "pygments_lexer": "ipython3",
   "version": "3.12.4"
  }
 },
 "nbformat": 4,
 "nbformat_minor": 2
}
